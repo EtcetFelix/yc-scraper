{
 "cells": [
  {
   "cell_type": "markdown",
   "metadata": {},
   "source": [
    "# Notebook"
   ]
  },
  {
   "attachments": {},
   "cell_type": "markdown",
   "metadata": {},
   "source": [
    "The goal is to create a dataset of all the companies in the Y Combinator Startup Directory including the following fields:\n",
    "\n",
    "- company_name\n",
    "- short_description\n",
    "- year_founded\n",
    "- batch (e.g. W20, S19)\n",
    "- tags (e.g. marketplace, fintech, edtech)\n",
    "- location\n",
    "  - city\n",
    "  - state\n",
    "  - country\n",
    "- team_size\n",
    "- url\n",
    "- long_description\n",
    "- date_fetched\n",
    "\n",
    "Data visualizations:\n",
    "\n",
    "- map of all startups by location\n",
    "- startups by batch, team_size, and tags\n",
    "- trends by batch using description (NLP)"
   ]
  },
  {
   "attachments": {},
   "cell_type": "markdown",
   "metadata": {},
   "source": [
    "## Todos\n",
    "\n",
    "- [x] instantiate first driver\n",
    "- [x] enable scrolling until the end of the page\n",
    "- [x] fetch urls from start url\n",
    "- [x] click on 'See all options'\n",
    "- [ ] click on batches recursively\n",
    "- [ ] fetch all urls from one batch\n",
    "- [ ] scrape fields from each startup url"
   ]
  },
  {
   "cell_type": "code",
   "execution_count": 175,
   "metadata": {},
   "outputs": [],
   "source": [
    "import json\n",
    "import re\n",
    "from time import sleep\n",
    "\n",
    "from selenium.webdriver import Firefox\n",
    "from selenium.webdriver.common.by import By"
   ]
  },
  {
   "cell_type": "code",
   "execution_count": 2,
   "metadata": {},
   "outputs": [],
   "source": [
    "driver = Firefox()\n",
    "driver.get(\"https://www.ycombinator.com/companies\")"
   ]
  },
  {
   "cell_type": "code",
   "execution_count": 3,
   "metadata": {},
   "outputs": [],
   "source": [
    "# click 'See all options'\n",
    "see_all_options = driver.find_element(By.LINK_TEXT, 'See all options')\n",
    "see_all_options.click()"
   ]
  },
  {
   "cell_type": "code",
   "execution_count": 162,
   "metadata": {},
   "outputs": [],
   "source": [
    "# seasons = ['W', 'S', 'IK',]\n",
    "# decades = [0, 1, 2,]\n",
    "\n",
    "def compile_batches():\n",
    "    \"\"\"Returns elements of checkboxes from all batches.\"\"\"\n",
    "    pattern = re.compile(r'^(W|S|IK)[012]')\n",
    "    bx = driver.find_elements(By.XPATH, '//label')\n",
    "    for element in bx:\n",
    "        if pattern.match(element.text):\n",
    "            yield element"
   ]
  },
  {
   "cell_type": "code",
   "execution_count": 72,
   "metadata": {},
   "outputs": [],
   "source": [
    "# source: https://stackoverflow.com/questions/20986631/how-can-i-scroll-a-web-page-using-selenium-webdriver-in-python\n",
    "\n",
    "def scroll_to_bottom():\n",
    "    \"\"\"Scrolls to the bottom of the page.\"\"\"\n",
    "    # get scroll height\n",
    "    last_height = driver.execute_script(\"return document.body.scrollHeight\")\n",
    "\n",
    "    while True:\n",
    "        # scroll down to bottom\n",
    "        driver.execute_script(\"window.scrollTo(0, document.body.scrollHeight);\")\n",
    "\n",
    "        # wait to load page\n",
    "        sleep(3)\n",
    "\n",
    "        # calculate new scroll height and compare with last scroll height\n",
    "        new_height = driver.execute_script(\"return document.body.scrollHeight\")\n",
    "        if new_height == last_height:\n",
    "            break\n",
    "        last_height = new_height"
   ]
  },
  {
   "cell_type": "code",
   "execution_count": 176,
   "metadata": {},
   "outputs": [],
   "source": [
    "def fetch_url_paths():\n",
    "    \"\"\"Returns a generator with url paths for all companies.\"\"\"\n",
    "    # contains 'companies' but not 'founders'\n",
    "    elements = driver.find_elements(By.XPATH, ('//a[contains(@href,\"/companies/\") and not(contains(@href,\"founders\"))]'))\n",
    "    for url in elements:\n",
    "        yield url.get_attribute('href') "
   ]
  },
  {
   "cell_type": "code",
   "execution_count": 172,
   "metadata": {},
   "outputs": [],
   "source": [
    "def write_urls_to_file(ul: list):\n",
    "    \"\"\"Appends a list of company urls to a file.\"\"\"\n",
    "    with open('start_urls.txt', 'a') as f:\n",
    "        json.dump(ul, f)"
   ]
  },
  {
   "cell_type": "code",
   "execution_count": null,
   "metadata": {},
   "outputs": [],
   "source": [
    "# 1. Click on n batch\n",
    "# 2. Scroll down to load all companies from n batch\n",
    "# 3. Fetch all links\n",
    "# 4. Do this recursively until all batches are fetched"
   ]
  },
  {
   "cell_type": "code",
   "execution_count": null,
   "metadata": {},
   "outputs": [],
   "source": [
    "def main():\n",
    "    batches = compile_batches()\n",
    "    for b in batches:\n",
    "        b.click()\n",
    "        scroll_to_bottom()\n",
    "        urls = [u for u in fetch_url_paths()]\n",
    "        write_urls_to_file(urls)\n",
    "        \n",
    "        "
   ]
  },
  {
   "cell_type": "code",
   "execution_count": null,
   "metadata": {},
   "outputs": [],
   "source": []
  },
  {
   "cell_type": "code",
   "execution_count": null,
   "metadata": {},
   "outputs": [],
   "source": []
  },
  {
   "attachments": {},
   "cell_type": "markdown",
   "metadata": {},
   "source": [
    "## Extras"
   ]
  },
  {
   "cell_type": "code",
   "execution_count": 94,
   "metadata": {},
   "outputs": [],
   "source": [
    "%%capture cap --no-stderr\n",
    "\n",
    "q = driver.page_source\n",
    "print(q)\n",
    "\n",
    "with open('output.html', 'w') as f:\n",
    "    f.write(cap.stdout)\n"
   ]
  },
  {
   "cell_type": "code",
   "execution_count": null,
   "metadata": {},
   "outputs": [],
   "source": [
    "# example of how to scroll to the bottom of a page\n",
    "# driver.execute_script(\"window.scrollTo(0, document.body.scrollHeight);\")"
   ]
  },
  {
   "cell_type": "code",
   "execution_count": null,
   "metadata": {},
   "outputs": [],
   "source": [
    "# example of taking a screenshot\n",
    "# driver.save_screenshot('screenshot.png')"
   ]
  }
 ],
 "metadata": {
  "kernelspec": {
   "display_name": "env",
   "language": "python",
   "name": "python3"
  },
  "language_info": {
   "codemirror_mode": {
    "name": "ipython",
    "version": 3
   },
   "file_extension": ".py",
   "mimetype": "text/x-python",
   "name": "python",
   "nbconvert_exporter": "python",
   "pygments_lexer": "ipython3",
   "version": "3.10.9"
  },
  "orig_nbformat": 4,
  "vscode": {
   "interpreter": {
    "hash": "6c047662a869790a3a05a70c8de1bf09db1b33ed04353761a0d9d8972667c3d8"
   }
  }
 },
 "nbformat": 4,
 "nbformat_minor": 2
}
